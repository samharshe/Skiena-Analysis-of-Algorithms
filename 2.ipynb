{
 "cells": [
  {
   "attachments": {},
   "cell_type": "markdown",
   "metadata": {},
   "source": [
    "# [Lecture 2: Time Complexity and Big O Notation](https://www.youtube.com/watch?v=z1mkCe3kVUA&list=PLOtl7M3yp-DX6ic0HGT0PUX_wiNmkWkXx)\n",
    "(I started watching the Zoom recordings because you can't see the board of the in-classroom ones.)"
   ]
  },
  {
   "attachments": {},
   "cell_type": "markdown",
   "metadata": {},
   "source": [
    "### notes"
   ]
  },
  {
   "attachments": {},
   "cell_type": "markdown",
   "metadata": {},
   "source": [
    "knapsack problem is fun. I don't know how to solve it. an easy way is to calculate the sum of every subset of the set and see whether the sum of any two disjoint sets adds to the right number. this is in O(2^n) (I think) so it's not very good."
   ]
  },
  {
   "attachments": {},
   "cell_type": "markdown",
   "metadata": {},
   "source": [
    "RAM model of computing.  \n",
    "each simple operation (+, -, if, call) takes 1 step.  \n",
    "loops and subroutines are not simple operations.  \n",
    "each memory access (read/write) takes 1 step.  \n",
    "\n",
    "this is not right, obviously, but it is close enough to be useful."
   ]
  },
  {
   "attachments": {},
   "cell_type": "markdown",
   "metadata": {},
   "source": [
    "we normally use the worst-case complexity as our measure of efficiency.  \n",
    "it's hard to calculate average-case and easier to calculate worst-case, which is normally similar enough."
   ]
  },
  {
   "attachments": {},
   "cell_type": "markdown",
   "metadata": {},
   "source": [
    "randomized algorithms require us to think in terms of average-case complexity, but this course does not primarily deal with these."
   ]
  },
  {
   "attachments": {},
   "cell_type": "markdown",
   "metadata": {},
   "source": [
    "big O, big Omega, big Theta give us upper, lower, and upper/lower.  \n",
    "O: some constant C times the function is an above the actual value beyond some n_0\n",
    "Omega: some constant C times the function is below the actual value beyond some n_0  \n",
    "Theta: there is some constant C_1 that when multiplied by the function gives a lower bound, and another constant C_2 that when multiplied by the function gives an upper bound.   "
   ]
  },
  {
   "attachments": {},
   "cell_type": "markdown",
   "metadata": {},
   "source": [
    "skipped through the rest of the lecture because I remember this well from 244."
   ]
  },
  {
   "attachments": {},
   "cell_type": "markdown",
   "metadata": {},
   "source": [
    "### reflection"
   ]
  },
  {
   "attachments": {},
   "cell_type": "markdown",
   "metadata": {},
   "source": [
    "I'm really looking forward to learning about np-completeness because it is interesting that sometimes fast algorithms exist and sometimes they don't and there's apparently no reason why or why not.  \n",
    "RAM model of computing is straightforward and seems a useful simplification.  \n",
    "we use worst-case complexity, not average-case complexity."
   ]
  }
 ],
 "metadata": {
  "kernelspec": {
   "display_name": "base",
   "language": "python",
   "name": "python3"
  },
  "language_info": {
   "codemirror_mode": {
    "name": "ipython",
    "version": 3
   },
   "file_extension": ".py",
   "mimetype": "text/x-python",
   "name": "python",
   "nbconvert_exporter": "python",
   "pygments_lexer": "ipython3",
   "version": "3.9.13"
  },
  "orig_nbformat": 4,
  "vscode": {
   "interpreter": {
    "hash": "6bb877b423c92a338c6f041d539c18954d97472ff6feb7a9672c2a878db52808"
   }
  }
 },
 "nbformat": 4,
 "nbformat_minor": 2
}
