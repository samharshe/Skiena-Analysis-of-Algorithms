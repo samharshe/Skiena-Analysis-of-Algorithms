{
 "cells": [
  {
   "attachments": {},
   "cell_type": "markdown",
   "metadata": {},
   "source": [
    "# [Lecture 8: Mergesort/Quicksort](https://www.youtube.com/watch?v=jUf-UQ3a0kg&list=PLOtl7M3yp-DX6ic0HGT0PUX_wiNmkWkXx&index=8)"
   ]
  },
  {
   "attachments": {},
   "cell_type": "markdown",
   "metadata": {},
   "source": [
    "problem of the day: why is it more efficient to sort the smaller array first?"
   ]
  },
  {
   "attachments": {},
   "cell_type": "markdown",
   "metadata": {},
   "source": [
    "### notes"
   ]
  },
  {
   "attachments": {},
   "cell_type": "markdown",
   "metadata": {},
   "source": [
    "mergesort is based on the idea of divide and conquer."
   ]
  },
  {
   "attachments": {},
   "cell_type": "markdown",
   "metadata": {},
   "source": [
    "sort first half; sort second half; merge them by walking along each and inserting the smaller of the remaining smallest.  \n",
    "(we sort the first half and second half by mergesort as well, obviously. recursion!)"
   ]
  },
  {
   "attachments": {},
   "cell_type": "markdown",
   "metadata": {},
   "source": [
    "two sorted lists with n elements in total can be merged in n time."
   ]
  },
  {
   "attachments": {},
   "cell_type": "markdown",
   "metadata": {},
   "source": [
    "we have logn merges to do. hence, nlogn."
   ]
  },
  {
   "cell_type": "code",
   "execution_count": 16,
   "metadata": {},
   "outputs": [
    {
     "name": "stdout",
     "output_type": "stream",
     "text": [
      "[-10, 0, 1, 2, 2, 3, 4, 4, 5, 7, 7, 7, 7, 100]\n"
     ]
    }
   ],
   "source": [
    "def merge_sort(arr):\n",
    "    length = len(arr)\n",
    "    \n",
    "    if length == 1:\n",
    "        return arr\n",
    "    \n",
    "    midpoint = length // 2\n",
    "        \n",
    "    first_half = arr[:midpoint]\n",
    "    second_half = arr[midpoint:]\n",
    "    \n",
    "    first_half_sorted = merge_sort(first_half)\n",
    "    second_half_sorted = merge_sort(second_half)\n",
    "    \n",
    "    return merge(first_half_sorted, second_half_sorted)\n",
    "    \n",
    "def merge(arr1, arr2):\n",
    "    arr = []\n",
    "    while arr1 and arr2:\n",
    "        if arr1[0] < arr2[0]:\n",
    "            arr.append(arr1.pop(0))\n",
    "        else:\n",
    "            arr.append(arr2.pop(0))\n",
    "            \n",
    "    arr.extend(arr1)\n",
    "    arr.extend(arr2)\n",
    "    \n",
    "    return arr\n",
    "\n",
    "print(merge_sort([1,3,4,5,7,7,-10,7,7,2,2,4,100,0]))"
   ]
  },
  {
   "attachments": {},
   "cell_type": "markdown",
   "metadata": {},
   "source": [
    "quicksort is the fastest internal sorting algorithm."
   ]
  },
  {
   "attachments": {},
   "cell_type": "markdown",
   "metadata": {},
   "source": [
    "quicksort: pick an arbitrary element as a pivot. put all the smaller items to its left and all the larger items to its right. the pivot ends up in exactly the right place!"
   ]
  },
  {
   "attachments": {},
   "cell_type": "markdown",
   "metadata": {},
   "source": [
    "we then sort the left and the right part recursively: choose a pivot on each side."
   ]
  },
  {
   "attachments": {},
   "cell_type": "markdown",
   "metadata": {},
   "source": [
    "in order n time we can put the items to the left and to the right of the pivot in place."
   ]
  },
  {
   "attachments": {},
   "cell_type": "markdown",
   "metadata": {},
   "source": [
    "best case: we choose a perfect pivot, dividing the problem in half each time, and finish in nlogn.  \n",
    "worst case: we choose the smallest pivot every time and finish in n^2."
   ]
  },
  {
   "attachments": {},
   "cell_type": "markdown",
   "metadata": {},
   "source": [
    "on average, we choose a pivot 3/4 of the way through, which keeps us in logn (just with a different base to the log, which we don't really care about)."
   ]
  },
  {
   "attachments": {},
   "cell_type": "markdown",
   "metadata": {},
   "source": [
    "if you pick the pivot based on a fixed rule, then you can get screwed over by being handed an array with the elements sorted so that you reliably pick the worst pivot. therefore, pick the pivot randomly."
   ]
  },
  {
   "cell_type": "code",
   "execution_count": 57,
   "metadata": {},
   "outputs": [
    {
     "name": "stdout",
     "output_type": "stream",
     "text": [
      "[-10, 1, 2, 3, 3, 4, 5, 6, 7, 9, 18, 100]\n"
     ]
    }
   ],
   "source": [
    "import random\n",
    "\n",
    "def quicksort(arr):\n",
    "    if len(arr) == 1: \n",
    "        return arr\n",
    "    \n",
    "    pivot = random.choice(arr)\n",
    "    \n",
    "    less, equal, greater = [], [], []\n",
    "    \n",
    "    for el in arr:\n",
    "        if el < pivot:\n",
    "            less.append(el)\n",
    "        elif el == pivot:\n",
    "            equal.append(el)\n",
    "        else:\n",
    "            greater.append(el)\n",
    "\n",
    "    if less:\n",
    "        if greater:\n",
    "            return quicksort(less) + equal + quicksort(greater)\n",
    "        return quicksort(less) + equal\n",
    "    return equal + quicksort(greater)\n",
    "\n",
    "print(quicksort([1,3,4,2,5,6,3,18,9,-10,7,100]))\n",
    "    "
   ]
  },
  {
   "cell_type": "code",
   "execution_count": 65,
   "metadata": {},
   "outputs": [
    {
     "name": "stdout",
     "output_type": "stream",
     "text": [
      "[1, 2, 3, 5, 6, 7, 8, 9, 10]\n"
     ]
    }
   ],
   "source": [
    "#really concise. taken from stackoverflow.\n",
    "import random\n",
    "\n",
    "def qsort(arr, first, last):\n",
    "    if first >= last:\n",
    "        return\n",
    "\n",
    "    i, j = first, last\n",
    "    pivot = arr[random.randint(first, last)]\n",
    "\n",
    "    while i <= j:\n",
    "        while arr[i] < pivot:\n",
    "            i += 1\n",
    "        while arr[j] > pivot:\n",
    "            j -= 1\n",
    "        if i <= j:\n",
    "            arr[i], arr[j] = arr[j], arr[i]\n",
    "            i, j = i + 1, j - 1\n",
    "            \n",
    "    qsort(arr, first, j)\n",
    "    qsort(arr, i, last)\n",
    "    \n",
    "arr = [1,3,2,10,9,6,7,8,5]\n",
    "qsort(arr, 0, len(arr)-1)\n",
    "print(arr)"
   ]
  },
  {
   "attachments": {},
   "cell_type": "markdown",
   "metadata": {},
   "source": [
    "### reflections"
   ]
  },
  {
   "attachments": {},
   "cell_type": "markdown",
   "metadata": {},
   "source": [
    "quicksort and mergesort are both nlogn sorting algs.  \n",
    "both rely on recursion.  \n",
    "mergesort has you sort arrays then merge them.  \n",
    "quicksort has you choose a pivot then sort the array on each side of the pivot.  \n",
    "I need to write both of these out to understand them fully but the ideas are not very complicated."
   ]
  }
 ],
 "metadata": {
  "kernelspec": {
   "display_name": "base",
   "language": "python",
   "name": "python3"
  },
  "language_info": {
   "codemirror_mode": {
    "name": "ipython",
    "version": 3
   },
   "file_extension": ".py",
   "mimetype": "text/x-python",
   "name": "python",
   "nbconvert_exporter": "python",
   "pygments_lexer": "ipython3",
   "version": "3.9.13"
  },
  "orig_nbformat": 4
 },
 "nbformat": 4,
 "nbformat_minor": 2
}
