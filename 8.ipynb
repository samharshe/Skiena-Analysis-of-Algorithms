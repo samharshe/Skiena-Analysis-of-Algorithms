{
 "cells": [
  {
   "attachments": {},
   "cell_type": "markdown",
   "metadata": {},
   "source": [
    "# [Lecture 8: Mergesort/Quicksort](https://www.youtube.com/watch?v=jUf-UQ3a0kg&list=PLOtl7M3yp-DX6ic0HGT0PUX_wiNmkWkXx&index=8)"
   ]
  },
  {
   "attachments": {},
   "cell_type": "markdown",
   "metadata": {},
   "source": [
    "problem of the day: why is it more efficient to sort the smaller array first?"
   ]
  },
  {
   "attachments": {},
   "cell_type": "markdown",
   "metadata": {},
   "source": [
    "### notes"
   ]
  },
  {
   "attachments": {},
   "cell_type": "markdown",
   "metadata": {},
   "source": [
    "mergesort is based on the idea of divide and conquer."
   ]
  },
  {
   "attachments": {},
   "cell_type": "markdown",
   "metadata": {},
   "source": [
    "sort first half; sort second half; merge them by walking along each and inserting the smaller of the remaining smallest.  \n",
    "(we sort the first half and second half by mergesort as well, obviously. recursion!)"
   ]
  },
  {
   "attachments": {},
   "cell_type": "markdown",
   "metadata": {},
   "source": [
    "two sorted lists with n elements in total can be merged in n time."
   ]
  },
  {
   "cell_type": "code",
   "execution_count": 7,
   "metadata": {},
   "outputs": [
    {
     "name": "stdout",
     "output_type": "stream",
     "text": [
      "[2.5, 10]\n",
      "[4, 5, 6, 7]\n",
      "[10]\n",
      "[5, 6, 7]\n",
      "[6, 7]\n",
      "[7]\n",
      "[]\n",
      "[1, 2, 2.5, 4, 5, 6, 7, 10]\n"
     ]
    }
   ],
   "source": [
    "# def merge_sort(arr):\n",
    "#     if len(arr) > 1:\n",
    "        \n",
    "#     else:\n",
    "#         merg\n",
    "        \n",
    "def merge(arr1, arr2):\n",
    "    arr = []\n",
    "    while len(arr1) > 0 and len(arr2) > 0:\n",
    "        if arr1[0] < arr2[0]:\n",
    "            arr.append(arr1.pop(0))\n",
    "        else:\n",
    "            arr.append(arr2.pop(0))\n",
    "    for el in arr1:\n",
    "        arr.append(el)\n",
    "    for el in arr2:\n",
    "        arr.append(el)\n",
    "    return arr\n",
    "\n",
    "print(merge([1,2.5,10], [2,4,5,6,7]))"
   ]
  },
  {
   "attachments": {},
   "cell_type": "markdown",
   "metadata": {},
   "source": [
    "we have logn merges to do. hence, nlogn."
   ]
  },
  {
   "attachments": {},
   "cell_type": "markdown",
   "metadata": {},
   "source": [
    "quicksort is the fastest internal sorting algorithm."
   ]
  },
  {
   "attachments": {},
   "cell_type": "markdown",
   "metadata": {},
   "source": [
    "quicksort: pick an arbitrary element as a pivot. put all the smaller items to its left and all the larger items to its right. the pivot ends up in exactly the right place!"
   ]
  },
  {
   "attachments": {},
   "cell_type": "markdown",
   "metadata": {},
   "source": [
    "we then sort the left and the right part recursively: choose a pivot on each side."
   ]
  },
  {
   "attachments": {},
   "cell_type": "markdown",
   "metadata": {},
   "source": [
    "in order n time we can put the items to the left and to the right of the pivot in place."
   ]
  },
  {
   "attachments": {},
   "cell_type": "markdown",
   "metadata": {},
   "source": [
    "best case: we choose a perfect pivot, dividing the problem in half each time, and finish in nlogn.  \n",
    "worst case: we choose the smallest pivot every time and finish in n^2."
   ]
  },
  {
   "attachments": {},
   "cell_type": "markdown",
   "metadata": {},
   "source": [
    "on average, we choose a pivot 3/4 of the way through, which keeps us in logn (just with a different base to the log, which we don't really care about)."
   ]
  },
  {
   "attachments": {},
   "cell_type": "markdown",
   "metadata": {},
   "source": [
    "if you pick the pivot based on a fixed rule, then you can get screwed over by being handed an array with the elements sorted so that you reliably pick the worst pivot. therefore, pick the pivot randomly."
   ]
  },
  {
   "attachments": {},
   "cell_type": "markdown",
   "metadata": {},
   "source": [
    "### reflections"
   ]
  },
  {
   "attachments": {},
   "cell_type": "markdown",
   "metadata": {},
   "source": [
    "quicksort and mergesort are both nlogn sorting algs.  \n",
    "both rely on recursion.  \n",
    "mergesort has you sort arrays then merge them.  \n",
    "quicksort has you choose a pivot then sort the array on each side of the pivot.  \n",
    "I need to write both of these out to understand them fully but the ideas are not very complicated."
   ]
  }
 ],
 "metadata": {
  "kernelspec": {
   "display_name": "base",
   "language": "python",
   "name": "python3"
  },
  "language_info": {
   "codemirror_mode": {
    "name": "ipython",
    "version": 3
   },
   "file_extension": ".py",
   "mimetype": "text/x-python",
   "name": "python",
   "nbconvert_exporter": "python",
   "pygments_lexer": "ipython3",
   "version": "3.9.13"
  },
  "orig_nbformat": 4
 },
 "nbformat": 4,
 "nbformat_minor": 2
}
