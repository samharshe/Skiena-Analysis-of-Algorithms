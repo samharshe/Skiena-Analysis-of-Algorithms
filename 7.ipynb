{
 "cells": [
  {
   "cell_type": "markdown",
   "metadata": {},
   "source": [
    "# [Lecture 7: Heapsort / Priority Queue](https://www.youtube.com/watch?v=VTxEAMHtZsc&list=PLOtl7M3yp-DX6ic0HGT0PUX_wiNmkWkXx&index=7)"
   ]
  },
  {
   "attachments": {},
   "cell_type": "markdown",
   "metadata": {},
   "source": [
    "### notes"
   ]
  },
  {
   "attachments": {},
   "cell_type": "markdown",
   "metadata": {},
   "source": [
    "importance of sorting:  \n",
    "~25% of computer mainframe time is spent on sorting.  \n",
    "sorting is the best-studied problem in computer science.  \n",
    "most of the paradigms of algorithm desgin can be taught in the context of sorting."
   ]
  },
  {
   "attachments": {},
   "cell_type": "markdown",
   "metadata": {},
   "source": [
    "many problems are solved once you sort properly."
   ]
  },
  {
   "attachments": {},
   "cell_type": "markdown",
   "metadata": {},
   "source": [
    "civilization would not exist if we could only sort in n^2, not in nlogn."
   ]
  },
  {
   "attachments": {},
   "cell_type": "markdown",
   "metadata": {},
   "source": [
    "take care when writing the comparison function that your sorting algorithm uses because it could put things into n^2 time if the keys are all the same."
   ]
  },
  {
   "attachments": {},
   "cell_type": "markdown",
   "metadata": {},
   "source": [
    "sorting allows you to search in log(n).  \n",
    "preprocessign for search is one of the most important uses of sorting."
   ]
  },
  {
   "attachments": {},
   "cell_type": "markdown",
   "metadata": {},
   "source": [
    "tons of problems are solved by sorting, then passing lineraly through the sorted data structure."
   ]
  },
  {
   "cell_type": "markdown",
   "metadata": {},
   "source": [
    "the data structure matters.  \n",
    "selection sort can run in nlogn on a binary search tree because it takes less time to find the minimum element."
   ]
  },
  {
   "attachments": {},
   "cell_type": "markdown",
   "metadata": {},
   "source": [
    "can we use a different data structure that smooths the bottleneck of the sorting algorithm?"
   ]
  },
  {
   "attachments": {},
   "cell_type": "markdown",
   "metadata": {},
   "source": [
    "priority queue has three operations:  \n",
    "1. find min, max.  \n",
    "2. insert.  \n",
    "3. delete min, max.  "
   ]
  },
  {
   "attachments": {},
   "cell_type": "markdown",
   "metadata": {},
   "source": [
    "any time we want to insert, then take the highest priority item out, we have a priority queue."
   ]
  },
  {
   "attachments": {},
   "cell_type": "markdown",
   "metadata": {},
   "source": [
    "binary heap is a binary tree with a key in each node such that:  \n",
    "1. all leaves are on at most two adjacent levels.  \n",
    "2. all leaves on the lowest level occur as far as possible to the left, and all levels other than the lowest are completely filled.  \n",
    "3. any node is $\\leq$ all its decendents, and its left and right subtrees are again binary heaps.  "
   ]
  },
  {
   "attachments": {},
   "cell_type": "markdown",
   "metadata": {},
   "source": [
    "heaps maintain a partial order such that it's more efficient to maintain than complete order but stronger than random order, so it's quicker to find the minimum.  \n",
    "the nice thing is that we can pack a heap into an array without any pointers.\n",
    "the children of node i are nodes 2i and 2i+1."
   ]
  },
  {
   "attachments": {},
   "cell_type": "markdown",
   "metadata": {},
   "source": [
    "to add an item to a heap, add it to the leftmost open spot, then swap it with its parent if need be."
   ]
  },
  {
   "cell_type": "markdown",
   "metadata": {},
   "source": [
    "minimum element is always the root of the tree."
   ]
  },
  {
   "attachments": {},
   "cell_type": "markdown",
   "metadata": {},
   "source": [
    "to delete the root, overwrite the root with the last element, then swap with the smallest of its children until everyone's happy."
   ]
  },
  {
   "attachments": {},
   "cell_type": "markdown",
   "metadata": {},
   "source": [
    "### reflections"
   ]
  },
  {
   "attachments": {},
   "cell_type": "markdown",
   "metadata": {},
   "source": [
    "sorting is importnat. tons and tons of problems are trivial once you sort. you can sort in general in nlogn."
   ]
  },
  {
   "attachments": {},
   "cell_type": "markdown",
   "metadata": {},
   "source": [
    "priority queues are an interface that support insert, min, and delete."
   ]
  },
  {
   "attachments": {},
   "cell_type": "markdown",
   "metadata": {},
   "source": [
    "binary heaps are cool data structures that are somewhere between a binary search tree (quick to find elements but expensive to maintain) and disorder (slow to find elements but cheap to maintain).  \n",
    "binary heaps can be represented as arrays without pointers because there is a formula (2n and 2n+1) that allows you to find the positions of an element's children based on that element's position."
   ]
  }
 ],
 "metadata": {
  "language_info": {
   "name": "python"
  },
  "orig_nbformat": 4
 },
 "nbformat": 4,
 "nbformat_minor": 2
}
