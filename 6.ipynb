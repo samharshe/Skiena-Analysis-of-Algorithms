{
 "cells": [
  {
   "attachments": {},
   "cell_type": "markdown",
   "metadata": {},
   "source": [
    "# [Lecture 6: Hashing](https://www.youtube.com/watch?v=cGv8J2DBFPk&list=PLOtl7M3yp-DX6ic0HGT0PUX_wiNmkWkXx&index=6)"
   ]
  },
  {
   "attachments": {},
   "cell_type": "markdown",
   "metadata": {},
   "source": [
    "### notes"
   ]
  },
  {
   "attachments": {},
   "cell_type": "markdown",
   "metadata": {},
   "source": [
    "dictionary operations: \n",
    "search: given a key; returns a pointer to the item if it exists.  \n",
    "insert, delete: given pointers to the item and add it or remove it.  \n",
    "min, max: given a totally ordered set, return the smallest/largest item.  \n",
    "predecessor, successor: given an item and a totally ordered set return the next smallest/largest."
   ]
  },
  {
   "attachments": {},
   "cell_type": "markdown",
   "metadata": {},
   "source": [
    "many implementations of the dictionary operations."
   ]
  },
  {
   "attachments": {},
   "cell_type": "markdown",
   "metadata": {},
   "source": [
    "in a binary search tree, deletions are non-trivial (namely, they are $log(n)$)"
   ]
  },
  {
   "attachments": {},
   "cell_type": "markdown",
   "metadata": {},
   "source": [
    "hash function is a function that maps keys to indices, so we know where to look up items in our binary search tree. this lets us find things in constant time.  "
   ]
  },
  {
   "attachments": {},
   "cell_type": "markdown",
   "metadata": {},
   "source": [
    "collisions are multiple keys mapped to the same bucket. if the keys are uniformly distributed, then each bucket should contain very few (really, one) keys."
   ]
  },
  {
   "attachments": {},
   "cell_type": "markdown",
   "metadata": {},
   "source": [
    "hash function defined $0 \\leq h(k) < m$. we have some data structure, probably a linked list. we have some key $k$. we take $h(k) = i$ and put the corresponding value in the $i$-th bin. we can then search really quickly."
   ]
  },
  {
   "cell_type": "markdown",
   "metadata": {},
   "source": [
    "on average we do everything in constant time."
   ]
  },
  {
   "attachments": {},
   "cell_type": "markdown",
   "metadata": {},
   "source": [
    "at worst, everything is in the same bucket, so we are reduced to linked-list serach."
   ]
  },
  {
   "attachments": {},
   "cell_type": "markdown",
   "metadata": {},
   "source": [
    "one easy way to define a hash function: map each key to a gigantic number, then take that number mod m, where m is the largest # in the range of the hash function."
   ]
  },
  {
   "attachments": {},
   "cell_type": "markdown",
   "metadata": {},
   "source": [
    "probability of no collisions with $m$ buckets: $\\Pi_{i=0}^n\\frac{m-i}{m}$."
   ]
  },
  {
   "attachments": {},
   "cell_type": "markdown",
   "metadata": {},
   "source": [
    "performance:  \n",
    "search: O(1) expected, O(n) worst case.  \n",
    "insert: O(1) expected, O(n) worst case.  \n",
    "delete: O(1) expected, O(n) worst case.  \n",
    "min, max, predecessor, successor: $\\Theta(n+m)$ expected and worst case.  \n",
    "a hash table is often the best way to do dictionaries, but its worst-case time is not great. its worst-case time comes from balanced binary trees."
   ]
  },
  {
   "cell_type": "markdown",
   "metadata": {},
   "source": [
    "this class doesn't often use hash tables because their worst-case performance isn't very good.  "
   ]
  },
  {
   "attachments": {},
   "cell_type": "markdown",
   "metadata": {},
   "source": [
    "how to tell whether a document is new?  \n",
    "create a big bitvector.  \n",
    "initialize it to all 0's.  \n",
    "if the hash of a document is j, turn the j-th position to a 1.  \n",
    "if you get a new document and there is a 0 in the position of its hash value, it is new.  \n",
    "if it's 1, if the bitvector is big, it's probably new, and it might be cheaper just to save it in this case than to check for sure whether it's new or not.  "
   ]
  },
  {
   "attachments": {},
   "cell_type": "markdown",
   "metadata": {},
   "source": [
    "hash functions are very cool and have lots of uses!"
   ]
  },
  {
   "attachments": {},
   "cell_type": "markdown",
   "metadata": {},
   "source": [
    "### reflections"
   ]
  },
  {
   "attachments": {},
   "cell_type": "markdown",
   "metadata": {},
   "source": [
    "hash functions are wicked cool. they are pseudo-injective, by which I mean two different inputs are almost guaranteed to produce different outputs. we can therefore map big documents to a smaller space without worryting too much about collisions."
   ]
  },
  {
   "attachments": {},
   "cell_type": "markdown",
   "metadata": {},
   "source": [
    "we create a list of length n. we design a hash function whose range is [0, n). we hash the keys in our dictionary and put each item in the bucket of the list that corresponds to our hash function. we can then do almost everything in constant time by hashing the value of our key and looking there instead of having to search through a binary tree or whatnot. "
   ]
  },
  {
   "attachments": {},
   "cell_type": "markdown",
   "metadata": {},
   "source": [
    "has tables don't have great worst-case performance, but their average performance is good."
   ]
  }
 ],
 "metadata": {
  "language_info": {
   "name": "python"
  },
  "orig_nbformat": 4
 },
 "nbformat": 4,
 "nbformat_minor": 2
}
