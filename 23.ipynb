{
 "cells": [
  {
   "attachments": {},
   "cell_type": "markdown",
   "metadata": {},
   "source": [
    "# [Lecture 23: NP-Completeness](https://www.youtube.com/watch?v=ItHp5laE1VE)"
   ]
  },
  {
   "attachments": {},
   "cell_type": "markdown",
   "metadata": {},
   "source": [
    "### notes"
   ]
  },
  {
   "attachments": {},
   "cell_type": "markdown",
   "metadata": {},
   "source": [
    "if you fail to find a fast algorithm:  \n",
    "1. you are dumb.  \n",
    "2. there is no fast algorithm (lower-bound proof).  \n",
    "3. nobody else can solve it either (NP-completeness reudction)."
   ]
  },
  {
   "cell_type": "markdown",
   "metadata": {},
   "source": [
    "NP-completeness is a fundamental feature of the world in a way that dynamic programming is not."
   ]
  },
  {
   "attachments": {},
   "cell_type": "markdown",
   "metadata": {},
   "source": [
    "very few problems in CS have lower-bound proofs."
   ]
  },
  {
   "attachments": {},
   "cell_type": "markdown",
   "metadata": {},
   "source": [
    "NP completeness allows us to show that two problems are similar. if we can solve one, we can solve another, and if we can't solve one, we can't solve the other."
   ]
  },
  {
   "attachments": {},
   "cell_type": "markdown",
   "metadata": {},
   "source": [
    "reduction: we take the input for one function and translate it into an input for another function. if the new input in the new function equals the old input in the old function, we have successfully translated. we have a successful reduction."
   ]
  },
  {
   "attachments": {},
   "cell_type": "markdown",
   "metadata": {},
   "source": [
    "if we know there is no fast way to solve the original problem, then there is definitely no fast way to solve the subroutine. if we had a fast way to solve the subroutine, then we could leverage it to get a fast solution to the original problem."
   ]
  },
  {
   "cell_type": "markdown",
   "metadata": {},
   "source": [
    "if there is no fast solution to bandersnatch and you give me an algorithm that would be fast if there existed a fast bo-billy solver, then there is no fast bo-billy solver."
   ]
  },
  {
   "attachments": {},
   "cell_type": "markdown",
   "metadata": {},
   "source": [
    "an instance is an input to a problem. it specifies the conditions where the problem itself left them undefined."
   ]
  },
  {
   "attachments": {},
   "cell_type": "markdown",
   "metadata": {},
   "source": [
    "instances always have solutions. problems have strategies, i.e., algorithms."
   ]
  },
  {
   "attachments": {},
   "cell_type": "markdown",
   "metadata": {},
   "source": [
    "decision problems have answers of yes and no.  \n",
    "most interesting optimization problems can be phrased as decision problems.  \n",
    "thus we restrict the conversation to them for now."
   ]
  },
  {
   "attachments": {},
   "cell_type": "markdown",
   "metadata": {},
   "source": [
    "satisfiability takes as input a set of propositions over some variable and gives as output T or F depending on whether there is some truth-assignment of those variables that satisfies that set. (I know all too much about this.)"
   ]
  },
  {
   "cell_type": "markdown",
   "metadata": {},
   "source": [
    "there is no fast algorithm for satisfiability."
   ]
  },
  {
   "attachments": {},
   "cell_type": "markdown",
   "metadata": {},
   "source": [
    "### reflections"
   ]
  },
  {
   "attachments": {},
   "cell_type": "markdown",
   "metadata": {},
   "source": [
    "lower-bound proofs are rare. instead, to prove something takes a long time, we show that it could be used to get another result that we know also takes a long time. if bo-billy gives us bandersnatch, and bandersnatch is provably slow, then we have proven that bo-billy is also slow (or maybe that any translation from inputs of bandersnatch to inputs of bo-billy is slow)."
   ]
  },
  {
   "attachments": {},
   "cell_type": "markdown",
   "metadata": {},
   "source": [
    "I think I get everything covered in this lecture. I'm still waiting to see why this is so important."
   ]
  }
 ],
 "metadata": {
  "language_info": {
   "name": "python"
  },
  "orig_nbformat": 4
 },
 "nbformat": 4,
 "nbformat_minor": 2
}
