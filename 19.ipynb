{
 "cells": [
  {
   "cell_type": "markdown",
   "metadata": {},
   "source": [
    "# [Lecture 19: Edit Distance](https://www.youtube.com/watch?v=T3A4jlHlhtA&list=PLOtl7M3yp-DX6ic0HGT0PUX_wiNmkWkXx&index=19)"
   ]
  },
  {
   "attachments": {},
   "cell_type": "markdown",
   "metadata": {},
   "source": [
    "three steps to dynamic programming:  \n",
    "1. formulate your answer as a recursive algorithm.  \n",
    "2. show that the number of instances of your recurrence is bounded by a polynomial (i.e. not exponential).  \n",
    "3. specify an order of evaluation for the recurrence so you always have what you need."
   ]
  },
  {
   "attachments": {},
   "cell_type": "markdown",
   "metadata": {},
   "source": [
    "### reflection"
   ]
  },
  {
   "attachments": {},
   "cell_type": "markdown",
   "metadata": {},
   "source": [
    "we just worked through some example problems. dynamic programming is an intuitive enough idea that I am feeling pretty good right now."
   ]
  }
 ],
 "metadata": {
  "language_info": {
   "name": "python"
  },
  "orig_nbformat": 4
 },
 "nbformat": 4,
 "nbformat_minor": 2
}
