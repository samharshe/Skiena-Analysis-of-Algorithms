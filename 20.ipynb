{
 "cells": [
  {
   "cell_type": "markdown",
   "metadata": {},
   "source": [
    "# [Lecture 20: Edit Distance Continued](https://www.youtube.com/watch?v=iPnPVcZmRbE&list=PLOtl7M3yp-DX6ic0HGT0PUX_wiNmkWkXx&index=20)"
   ]
  },
  {
   "cell_type": "markdown",
   "metadata": {},
   "source": [
    "instead of doing edit distance recursively, we keep a table of edit distances."
   ]
  },
  {
   "cell_type": "markdown",
   "metadata": {},
   "source": [
    "running time of dynamic programming algorithm: number of boxes times time per box."
   ]
  },
  {
   "attachments": {},
   "cell_type": "markdown",
   "metadata": {},
   "source": [
    "in dynamic programming, you have to make sure you do things in such an order that each computation has the results that it needs."
   ]
  },
  {
   "attachments": {},
   "cell_type": "markdown",
   "metadata": {},
   "source": [
    "in the edit distance matrix, we can figure out the order of the moves we make by walking toward the smallest upper-left-adjacent number at each point."
   ]
  },
  {
   "attachments": {},
   "cell_type": "markdown",
   "metadata": {},
   "source": [
    "longest common subsequence = longest string whose characters appear in order in all of the relevant strings."
   ]
  },
  {
   "attachments": {},
   "cell_type": "markdown",
   "metadata": {},
   "source": [
    "maximum monotone subsequence: minimum number of deletions such that what's left is monotonically increasing."
   ]
  },
  {
   "attachments": {},
   "cell_type": "markdown",
   "metadata": {},
   "source": [
    "sort the digits and find the longest common subsequence between the digits and the sorted digits. that's awesome."
   ]
  },
  {
   "attachments": {},
   "cell_type": "markdown",
   "metadata": {},
   "source": [
    "I follow the solution for all these dynamic programming problems, but I would not have come up with them myself. I am excited for Leet code because I think once I get an idea of the types of solutions that exist, these won't seem so daunting."
   ]
  },
  {
   "cell_type": "markdown",
   "metadata": {},
   "source": [
    "### reflections"
   ]
  },
  {
   "attachments": {},
   "cell_type": "markdown",
   "metadata": {},
   "source": [
    "I understand dynamic programming in the abstract as well as I need to. I just need to get better at discovering the solutions when presented with novel problems, especially if I am in a timed intereview."
   ]
  },
  {
   "cell_type": "markdown",
   "metadata": {},
   "source": [
    "solution: keep watching these lectures, then do lots of Leet code!"
   ]
  }
 ],
 "metadata": {
  "language_info": {
   "name": "python"
  },
  "orig_nbformat": 4
 },
 "nbformat": 4,
 "nbformat_minor": 2
}
