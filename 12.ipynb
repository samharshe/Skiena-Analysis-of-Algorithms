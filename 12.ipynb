{
 "cells": [
  {
   "attachments": {},
   "cell_type": "markdown",
   "metadata": {},
   "source": [
    "# [Lecture 12: Breadth-First Search](https://www.youtube.com/watch?v=KyordYB3BOs&list=PLOtl7M3yp-DX6ic0HGT0PUX_wiNmkWkXx&index=12)"
   ]
  },
  {
   "attachments": {},
   "cell_type": "markdown",
   "metadata": {},
   "source": [
    "bipartite graphs: we assign each vertex to one of two colors such that there is never an edge passing between two edges of the same color.  "
   ]
  },
  {
   "attachments": {},
   "cell_type": "markdown",
   "metadata": {},
   "source": [
    "finding two-colorings is easy using BFS. color each vertex the opposite color of its parent."
   ]
  },
  {
   "attachments": {},
   "cell_type": "markdown",
   "metadata": {},
   "source": [
    "BFS organizes the graph, creating a tree of the order of discovery."
   ]
  },
  {
   "attachments": {},
   "cell_type": "markdown",
   "metadata": {},
   "source": [
    "every edge in BFS is either a cross edge or a tree edge."
   ]
  },
  {
   "attachments": {},
   "cell_type": "markdown",
   "metadata": {},
   "source": [
    "### notes"
   ]
  },
  {
   "attachments": {},
   "cell_type": "markdown",
   "metadata": {},
   "source": [
    "DFS uses a stack instead of a queue."
   ]
  },
  {
   "attachments": {},
   "cell_type": "markdown",
   "metadata": {},
   "source": [
    "we can use recursion with DFS, eliminating the need to maintain our stack expliclty."
   ]
  },
  {
   "attachments": {},
   "cell_type": "markdown",
   "metadata": {},
   "source": [
    "DFS:\n",
    "choose an arbitrary vertex and add it to the stack. mark it discovered.  \n",
    "look at its neighbors.  \n",
    "if it has a neighbor, add it to the stack and begin exploring that neighbor immediately.  \n",
    "look at all its neighbors and so on.  \n",
    "if a vertex has no undiscovered neighbors, mark it as processed and go back to its parent.  \n",
    "explore another of its neighbors if possible. if not, mark it as processed and go back to its parent.  \n",
    "continue until all vertices are processed.  \n",
    "\n",
    "major difference should be clear: instead of processing all of a node's neighbors before marking it as processed and moving on, we begin processing each neighbor as soon as we learn about it, and only go back to the first node's other neighbors when we've exhausted the rest of the graph."
   ]
  },
  {
   "attachments": {},
   "cell_type": "markdown",
   "metadata": {},
   "source": [
    "every edge is either a tree edge, a forward edge, a cross edge, or a back edge."
   ]
  },
  {
   "attachments": {},
   "cell_type": "markdown",
   "metadata": {},
   "source": [
    "in a DFS on an undirected graph, every edge is a tree edge or a back edge."
   ]
  },
  {
   "cell_type": "markdown",
   "metadata": {},
   "source": [
    "forward edges don't exist because we discover grandparents by grandchildren in DFS, not the other way around."
   ]
  },
  {
   "attachments": {},
   "cell_type": "markdown",
   "metadata": {},
   "source": [
    "any back edge creates a cycle."
   ]
  },
  {
   "attachments": {},
   "cell_type": "markdown",
   "metadata": {},
   "source": [
    "articulation vertex is a vertex in a connected graph whose deletion makes the graph unconnected."
   ]
  },
  {
   "attachments": {},
   "cell_type": "markdown",
   "metadata": {},
   "source": [
    "find articulation vertices in O(n(n+m)) by deleting each vertex and using DFS to check whether the graph becomes unconnected."
   ]
  },
  {
   "attachments": {},
   "cell_type": "markdown",
   "metadata": {},
   "source": [
    "faster algorithm: each vertex is an articulation vertex if it is not a leaf and if there are no back edges connecting its ancestors to its children.  \n",
    "this is just DFS, so it is O(n+m)."
   ]
  },
  {
   "attachments": {},
   "cell_type": "markdown",
   "metadata": {},
   "source": [
    "topological sorting on a directed acyclic graph is an ordering such that all the edges go from left to right."
   ]
  },
  {
   "attachments": {},
   "cell_type": "markdown",
   "metadata": {},
   "source": [
    "lots of useful graphs are directed acyclic graphs, and topological ordering is helpful often."
   ]
  },
  {
   "attachments": {},
   "cell_type": "markdown",
   "metadata": {},
   "source": [
    "as long as we avoid back-edges, we have a DAG. back-edges create cycles."
   ]
  },
  {
   "attachments": {},
   "cell_type": "markdown",
   "metadata": {},
   "source": [
    "we can use depth-first search to add vertices to a list in reverse order of finishing time, which creates a topological sort."
   ]
  },
  {
   "cell_type": "markdown",
   "metadata": {},
   "source": [
    "### reflections"
   ]
  },
  {
   "attachments": {},
   "cell_type": "markdown",
   "metadata": {},
   "source": [
    "depth first search uses a stack instead of a queue.  \n",
    "we are ADHD. we explore things as soon as we learn about them, then we backtrack and finish what we started.  \n",
    "DFS is useful in creating topological sortings of DAGs."
   ]
  }
 ],
 "metadata": {
  "language_info": {
   "name": "python"
  },
  "orig_nbformat": 4
 },
 "nbformat": 4,
 "nbformat_minor": 2
}
