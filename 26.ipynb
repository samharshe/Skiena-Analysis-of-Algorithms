{
 "cells": [
  {
   "attachments": {},
   "cell_type": "markdown",
   "metadata": {},
   "source": [
    "# [Lecture 26: The NP-Completeness Challenge](https://www.youtube.com/watch?v=_EzetTkG_Cc)"
   ]
  },
  {
   "cell_type": "markdown",
   "metadata": {},
   "source": [
    "### notes"
   ]
  },
  {
   "attachments": {},
   "cell_type": "markdown",
   "metadata": {},
   "source": [
    "techniques for proving NP-completeness:  \n",
    "restriction: show that a special case of your problem is NP-complete.  \n",
    "local replacement: make local changes to the structure to make it the same as an NP-complete problem."
   ]
  },
  {
   "cell_type": "markdown",
   "metadata": {},
   "source": [
    "it is often easier to redo proofs of hardness than to have them explained."
   ]
  },
  {
   "attachments": {},
   "cell_type": "markdown",
   "metadata": {},
   "source": [
    "make your bandersnatch the simplest possible hard problem. then, it's as easy as possible to translate your G into G'."
   ]
  },
  {
   "attachments": {},
   "cell_type": "markdown",
   "metadata": {},
   "source": [
    "make your bo-billy as hard as possible. generalize it. then, if necessary, take out the useless parts afterward."
   ]
  },
  {
   "attachments": {},
   "cell_type": "markdown",
   "metadata": {},
   "source": [
    "having a go-to hard problem for each context makes it easier."
   ]
  },
  {
   "cell_type": "markdown",
   "metadata": {},
   "source": [
    "if you get stuck, alternate between trying to prove it's hard and trying to find a fast algorithm for it."
   ]
  },
  {
   "attachments": {},
   "cell_type": "markdown",
   "metadata": {},
   "source": [
    "problem is in NP if you can check a given answer in polynomial time.  \n",
    "problem is in P if you can solve it in polynomial time."
   ]
  },
  {
   "attachments": {},
   "cell_type": "markdown",
   "metadata": {},
   "source": [
    "\n",
    "$P \\subseteq NP$, but P = NP?"
   ]
  },
  {
   "attachments": {},
   "cell_type": "markdown",
   "metadata": {},
   "source": [
    "NP-complete means as hard as satisfiability (technically speaking—by this we mean that it solves satisfiability) and in NP."
   ]
  },
  {
   "attachments": {},
   "cell_type": "markdown",
   "metadata": {},
   "source": [
    "we don't know whether graph isomorphism or factoring integers are NP-complete."
   ]
  },
  {
   "cell_type": "markdown",
   "metadata": {},
   "source": [
    "basically every other problem is known hard or not hard."
   ]
  },
  {
   "attachments": {},
   "cell_type": "markdown",
   "metadata": {},
   "source": [
    "NP-hard means it is at least as hard as satisfiability. it could be harder than satisfiability. maybe we can't even check an answer in polynomial time."
   ]
  },
  {
   "attachments": {},
   "cell_type": "markdown",
   "metadata": {},
   "source": [
    "the only promising way to prove P = NP is to find a fast algorithm for satisfiability."
   ]
  },
  {
   "cell_type": "markdown",
   "metadata": {},
   "source": [
    "### reflections"
   ]
  },
  {
   "attachments": {},
   "cell_type": "markdown",
   "metadata": {},
   "source": [
    "I am not disappointed by the P-NP problem. it seems important and hard and it's surprising that it's unsolved. I am itching to get to LeetCode and start using all the things that I've learned in this course."
   ]
  }
 ],
 "metadata": {
  "language_info": {
   "name": "python"
  },
  "orig_nbformat": 4
 },
 "nbformat": 4,
 "nbformat_minor": 2
}
