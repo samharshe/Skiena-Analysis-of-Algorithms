{
 "cells": [
  {
   "attachments": {},
   "cell_type": "markdown",
   "metadata": {},
   "source": [
    "# [Lecture 15: Graph Algorithms](https://www.youtube.com/watch?v=MUe5DXRhyAo&list=PLOtl7M3yp-DX6ic0HGT0PUX_wiNmkWkXx&index=15&pp=iAQB)"
   ]
  },
  {
   "attachments": {},
   "cell_type": "markdown",
   "metadata": {},
   "source": [
    "once we have built a spanning tree by Dykstra's algorithm, we know the shortest path from the original vertex to any other vertex. we do NOT know the shortest path between any two arbitrary vertices. in other words, the shortest path spanning tree depends on the original vertex."
   ]
  },
  {
   "attachments": {},
   "cell_type": "markdown",
   "metadata": {},
   "source": [
    "Dykstra's runs in $n^2$ as does Prim's."
   ]
  },
  {
   "attachments": {},
   "cell_type": "markdown",
   "metadata": {},
   "source": [
    "answer to a question from notes 14: we can't just add a constant number to the weight of every edge to make all edges positive. this changes the topology of the tree."
   ]
  },
  {
   "attachments": {},
   "cell_type": "markdown",
   "metadata": {},
   "source": [
    "minimum spanning tree doesn't change. Kruskal's algorithm and Prim's both pick the cheapest from some set, and the cheapest doesn't change when we add a constand weight to every edge."
   ]
  },
  {
   "attachments": {},
   "cell_type": "markdown",
   "metadata": {},
   "source": [
    "multiplying by some constant value does not change anything."
   ]
  },
  {
   "attachments": {},
   "cell_type": "markdown",
   "metadata": {},
   "source": [
    "### notes"
   ]
  },
  {
   "attachments": {},
   "cell_type": "markdown",
   "metadata": {},
   "source": [
    "with Dykstra's we can find all shortest paths in n^3"
   ]
  },
  {
   "attachments": {},
   "cell_type": "markdown",
   "metadata": {},
   "source": [
    "Floyd-Warshall:  \n",
    "for k 1 to n:  \n",
    "for i 1 to n:  \n",
    "for j 1 to n:  \n",
    "d[i,j]^k = min(d[i,j]^k-1, d[i,k]^k-1 + d[k,j]^k-1)\n",
    "\n",
    "distance between two vertices going through vertex i is the minimum of the distance not going through i and going through i.  \n",
    "we restrict to no only {1,...,k} to begin with.  \n",
    "then we add another allowable intermediate each time.  \n",
    "this is n^3 but in practice better than Dykstra's by a constant factor. "
   ]
  },
  {
   "attachments": {},
   "cell_type": "markdown",
   "metadata": {},
   "source": [
    "transitive closure adds edge (i,j) if there is a path from i to j."
   ]
  },
  {
   "attachments": {},
   "cell_type": "markdown",
   "metadata": {},
   "source": [
    "### reflections"
   ]
  },
  {
   "attachments": {},
   "cell_type": "markdown",
   "metadata": {},
   "source": [
    "Floyd-Warshall lets us calculate the shortes path between all pairs of vertices with a constant-time improvement over iterating over Dykstra's. it works by finding the shortest path that excludes the last k vertices, then decreasing k to 0 and updating the shorest paths."
   ]
  },
  {
   "attachments": {},
   "cell_type": "markdown",
   "metadata": {},
   "source": [
    "think carefully about what happens when you globally modify edge weights."
   ]
  }
 ],
 "metadata": {
  "language_info": {
   "name": "python"
  },
  "orig_nbformat": 4
 },
 "nbformat": 4,
 "nbformat_minor": 2
}
