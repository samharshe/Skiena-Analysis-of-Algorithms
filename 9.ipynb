{
 "cells": [
  {
   "attachments": {},
   "cell_type": "markdown",
   "metadata": {},
   "source": [
    "# [Lecture 9: Linear Sorting](https://www.youtube.com/watch?v=jUf-UQ3a0kg&list=PLOtl7M3yp-DX6ic0HGT0PUX_wiNmkWkXx&index=9)"
   ]
  },
  {
   "cell_type": "markdown",
   "metadata": {},
   "source": [
    "### notes"
   ]
  },
  {
   "attachments": {},
   "cell_type": "markdown",
   "metadata": {},
   "source": [
    "sorting arbitrary keys: nlgn is the best you can do.  \n",
    "if you have integers with some \"nice property\" maybe you can do better."
   ]
  },
  {
   "attachments": {},
   "cell_type": "markdown",
   "metadata": {},
   "source": [
    "with any comparison-based sorting algorithm, we can arrange the comparisons in a binary tree.  \n",
    "the tree must have n! leaves, so it must have height log(n!).\n",
    "$(n/2)^{n/2} < n! < n^n$, so the height of the tree is in $\\Theta(nlgn)$"
   ]
  },
  {
   "attachments": {},
   "cell_type": "markdown",
   "metadata": {},
   "source": [
    "we can use counting sort, but then you have to have keys in some finite range."
   ]
  },
  {
   "attachments": {},
   "cell_type": "markdown",
   "metadata": {},
   "source": [
    "bucketsort.  \n",
    "suppose we are sorting n items that fall in a range of m.  \n",
    "we divide m into n equal-sized buckets, so that each bucket has on average one value.  \n",
    "we put each value into the right bucket, then sort each bucket (which shouldn't take too long unless we're unlucky and a bunch of values happened into the same bucket)."
   ]
  },
  {
   "cell_type": "code",
   "execution_count": 9,
   "metadata": {},
   "outputs": [
    {
     "name": "stdout",
     "output_type": "stream",
     "text": [
      "[1, 2, 2.3, 3, 4, 5, 7.6, 9, 10.2]\n"
     ]
    }
   ],
   "source": [
    "import math\n",
    "\n",
    "def bucketsort(arr, min, max):\n",
    "    bucket_bucket = []\n",
    "    for i in range(math.floor((max-min)/len(arr))):\n",
    "        bucket_bucket.append([])\n",
    "        \n",
    "    for el in arr:\n",
    "        bucket_bucket[int((el-min)/(max-min))-1].append(el)\n",
    "    \n",
    "    final = []\n",
    "    for bucket in bucket_bucket:\n",
    "        bucket.sort()\n",
    "        final += bucket\n",
    "        \n",
    "    return final\n",
    "\n",
    "print(bucketsort([1,2.3,5,7.6,9,10.2,4,2,3], 1, 10.2))"
   ]
  },
  {
   "cell_type": "markdown",
   "metadata": {},
   "source": [
    "if we're unlucky and all the items end up in the same bucket, we've spent n time to learn nothing."
   ]
  },
  {
   "cell_type": "markdown",
   "metadata": {},
   "source": [
    "we want algorithms that do well in the worst case because we don't want to have to worry about the distribution of our data."
   ]
  },
  {
   "cell_type": "markdown",
   "metadata": {},
   "source": [
    "there is provably no faster algorithm that works in general than nlogn for sorting."
   ]
  },
  {
   "attachments": {},
   "cell_type": "markdown",
   "metadata": {},
   "source": [
    "sometimes we design good algorithms using good data structures; sometimes we use randomization; sometimes we divide and conquer."
   ]
  },
  {
   "cell_type": "markdown",
   "metadata": {},
   "source": [
    "### reflections"
   ]
  },
  {
   "attachments": {},
   "cell_type": "markdown",
   "metadata": {},
   "source": [
    "sorting can be done in linear time, but with big caveats. general-purpose sorting has a best upper bound of nlogn."
   ]
  },
  {
   "attachments": {},
   "cell_type": "markdown",
   "metadata": {},
   "source": [
    "bucketsort is smart but it requires that you know the distribution is uniform, which can screw you if it turns out not to be."
   ]
  }
 ],
 "metadata": {
  "kernelspec": {
   "display_name": "base",
   "language": "python",
   "name": "python3"
  },
  "language_info": {
   "codemirror_mode": {
    "name": "ipython",
    "version": 3
   },
   "file_extension": ".py",
   "mimetype": "text/x-python",
   "name": "python",
   "nbconvert_exporter": "python",
   "pygments_lexer": "ipython3",
   "version": "3.9.13"
  },
  "orig_nbformat": 4
 },
 "nbformat": 4,
 "nbformat_minor": 2
}
