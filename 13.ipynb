{
 "cells": [
  {
   "attachments": {},
   "cell_type": "markdown",
   "metadata": {},
   "source": [
    "# [Lecture 13: Minimal Spanning Trees](https://www.youtube.com/watch?v=oolm2VnJUKw&list=PLOtl7M3yp-DX6ic0HGT0PUX_wiNmkWkXx&index=13)"
   ]
  },
  {
   "attachments": {},
   "cell_type": "markdown",
   "metadata": {},
   "source": [
    "any vertex with indegree 0 could be first in a topological sorting."
   ]
  },
  {
   "attachments": {},
   "cell_type": "markdown",
   "metadata": {},
   "source": [
    "we can do a topological ordering another way:  \n",
    "put in first all the vertices with indegree 0.  \n",
    "delete them and all the edges incident upon them.  \n",
    "next, put in all the vertices who are after this deletion indegree 0.  \n",
    "repeat until all vertices are in the ordering.  \n",
    "if there is a vertex who never finds its way onto the list, that must be because there is a directed cycle somewhere."
   ]
  },
  {
   "cell_type": "markdown",
   "metadata": {},
   "source": [
    "### notes"
   ]
  },
  {
   "attachments": {},
   "cell_type": "markdown",
   "metadata": {},
   "source": [
    "minimum spanning tree: the spanning tree whose edge weights add to a minimum value."
   ]
  },
  {
   "attachments": {},
   "cell_type": "markdown",
   "metadata": {},
   "source": [
    "I remember this from 244. just add the cheapest edge that doesn't create a cycle. I think I could still prove that this is right, too."
   ]
  },
  {
   "attachments": {},
   "cell_type": "markdown",
   "metadata": {},
   "source": [
    "minimum spanning tree minus biggest-weight edges yields a graph with some number of components, which is a sort of cluster-identifier."
   ]
  },
  {
   "attachments": {},
   "cell_type": "markdown",
   "metadata": {},
   "source": [
    "optimal traveling salesman tour is at most twice the length of minimum spanning tree.  \n",
    "MST yields a good heuristic for this problem."
   ]
  },
  {
   "attachments": {},
   "cell_type": "markdown",
   "metadata": {},
   "source": [
    "Prim's algorithm is easy and the proof by contradiction is straightforward."
   ]
  },
  {
   "cell_type": "markdown",
   "metadata": {},
   "source": [
    "### reflection"
   ]
  },
  {
   "attachments": {},
   "cell_type": "markdown",
   "metadata": {},
   "source": [
    "one of the few boring lectures so far."
   ]
  },
  {
   "attachments": {},
   "cell_type": "markdown",
   "metadata": {},
   "source": [
    "just add the cheapest non-idiotic edge. QED."
   ]
  }
 ],
 "metadata": {
  "language_info": {
   "name": "python"
  },
  "orig_nbformat": 4
 },
 "nbformat": 4,
 "nbformat_minor": 2
}
