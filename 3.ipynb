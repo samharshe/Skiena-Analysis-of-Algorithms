{
 "cells": [
  {
   "cell_type": "markdown",
   "metadata": {},
   "source": [
    "# [Lecture 3: Program Analysis](https://www.youtube.com/watch?v=9RrdOssuOY4&list=PLOtl7M3yp-DX6ic0HGT0PUX_wiNmkWkXx)"
   ]
  },
  {
   "attachments": {},
   "cell_type": "markdown",
   "metadata": {},
   "source": [
    "selection sort in Python!"
   ]
  },
  {
   "cell_type": "code",
   "execution_count": 6,
   "metadata": {},
   "outputs": [
    {
     "name": "stdout",
     "output_type": "stream",
     "text": [
      "[1, 2, 3, 4, 5, 6]\n"
     ]
    }
   ],
   "source": [
    "def selection_sort(arr):\n",
    "    # we can operate on the object passed in! \n",
    "\n",
    "    # go through the whole array\n",
    "    for i in range(len(arr)):\n",
    "        min_index = i\n",
    "        # find the index of the smallest item in the unsorted section\n",
    "        for j in range(i + 1, len(arr)):\n",
    "            if arr[min_index] > arr[j]:\n",
    "                min_index = j\n",
    "\n",
    "        # move it to the first position in the unsorted section\n",
    "        # next time through, the loop will move the first position in the unsorted section up one\n",
    "        arr[i], arr[min_index] = arr[min_index], arr[i]\n",
    "\n",
    "    return arr\n",
    "\n",
    "print(selection_sort([1, 3, 4, 2, 5, 6]))"
   ]
  },
  {
   "attachments": {},
   "cell_type": "markdown",
   "metadata": {},
   "source": [
    "### notes"
   ]
  },
  {
   "attachments": {},
   "cell_type": "markdown",
   "metadata": {},
   "source": [
    "time complexity: O(n^2) because we have, roughly speaking, an operation for each item the first time through, then an operation for each item other than the first the second time through, and so on, until we have one operation for the last item the last time through.  \n",
    "so we have (the sum of the number of items in the list) operations.\n",
    "\n",
    "this is in-place, so we have O(1) space complexity."
   ]
  },
  {
   "cell_type": "markdown",
   "metadata": {},
   "source": [
    "insertion sort in Python!"
   ]
  },
  {
   "cell_type": "code",
   "execution_count": 5,
   "metadata": {},
   "outputs": [
    {
     "name": "stdout",
     "output_type": "stream",
     "text": [
      "[1, 3, 4, 5, 8]\n"
     ]
    }
   ],
   "source": [
    "def insertion_sort(arr):\n",
    "    for i in range(len(arr)):\n",
    "        # j is the index of the first unsorted element\n",
    "        j = i\n",
    "        # work it through the sorted section, swapping it each time it is on the wrong side of the adjacent element\n",
    "        while (j > 0) and arr[j] < arr[j-1]:\n",
    "            arr[j], arr[j-1] = arr[j-1], arr[j]\n",
    "            j -= 1\n",
    "    \n",
    "    return arr\n",
    "\n",
    "print(insertion_sort([1, 3, 5, 4, 8]))"
   ]
  },
  {
   "attachments": {},
   "cell_type": "markdown",
   "metadata": {},
   "source": [
    "also in-place, so we have O(1) space complexity.  \n",
    "also at worst n(n+2)/2 operations, so O(n^2) time complexity."
   ]
  },
  {
   "attachments": {},
   "cell_type": "markdown",
   "metadata": {},
   "source": [
    "asymptotic dominance doesn't matter when we are operating on small inputs, but it is all that matters when we care about how our algorithms scale.  \n",
    "what happens in the limiting case?"
   ]
  },
  {
   "attachments": {},
   "cell_type": "markdown",
   "metadata": {},
   "source": [
    "table with times for different complexity classes on different input sizes is always mind-blowing. I could stare at it all day."
   ]
  },
  {
   "attachments": {},
   "cell_type": "markdown",
   "metadata": {},
   "source": [
    "relatively few complexity algorithms"
   ]
  },
  {
   "attachments": {},
   "cell_type": "markdown",
   "metadata": {},
   "source": [
    "f dominates g if lim n -> inf g/f = 0  \n",
    "obvious enough  \n",
    "this is little-o: g = o(f)"
   ]
  },
  {
   "attachments": {},
   "cell_type": "markdown",
   "metadata": {},
   "source": [
    "properties of dominance:\n",
    "(this sounds vaguely Marxist)  \n",
    "n^a dominates n^b if a > b\n",
    "$n^a + o(n^a)$ does not dominate o(n^a)  \n",
    "\n",
    "these are sometimes difficult to prove but in my experience intuition is miraculously reliable here. it doesn't feel like adding o(n^a) would change anything and, indeed, it does not.  \n",
    "I need to find a way to get some LaTeX in here because this could get messy.\n",
    "\n",
    "update: LaTeX secured :D"
   ]
  },
  {
   "attachments": {},
   "cell_type": "markdown",
   "metadata": {},
   "source": [
    "$ n! >> 2^n >> n^3 >> n^2 >> nlog(n) >> n >> log(n) >> 1 $  \n",
    "this covers most of the algorithms for this course."
   ]
  },
  {
   "attachments": {},
   "cell_type": "markdown",
   "metadata": {},
   "source": [
    "$ b^x = y \\iff log_b(y) = x $"
   ]
  },
  {
   "attachments": {},
   "cell_type": "markdown",
   "metadata": {},
   "source": [
    "logs come up when we are repeatedly doubling something to get to 2 or halving something to get to 1 (roughly speaking)."
   ]
  },
  {
   "attachments": {},
   "cell_type": "markdown",
   "metadata": {},
   "source": [
    "in binary search we are halving the input repeatedly until we get to 1, our target.  \n",
    "that is why it is in log(n)."
   ]
  },
  {
   "attachments": {},
   "cell_type": "markdown",
   "metadata": {},
   "source": [
    "what is the height of a binary tree with n leaves?  \n",
    "a: lg(n)."
   ]
  },
  {
   "attachments": {},
   "cell_type": "markdown",
   "metadata": {},
   "source": [
    "$ log_a(x) + log_a(y) = log_a(x*y) $"
   ]
  },
  {
   "attachments": {},
   "cell_type": "markdown",
   "metadata": {},
   "source": [
    "base of the log doesn't matter in Big-Oh analysis beause changing it is equivalent to multiplying by a constant."
   ]
  },
  {
   "attachments": {},
   "cell_type": "markdown",
   "metadata": {},
   "source": [
    "### reflections\n",
    "I am excited to learn about different sorting algorithms because just writing up selection and insertion sort was pretty fun.  \n",
    "the math is tedious so far."
   ]
  },
  {
   "cell_type": "markdown",
   "metadata": {},
   "source": []
  }
 ],
 "metadata": {
  "kernelspec": {
   "display_name": "base",
   "language": "python",
   "name": "python3"
  },
  "language_info": {
   "codemirror_mode": {
    "name": "ipython",
    "version": 3
   },
   "file_extension": ".py",
   "mimetype": "text/x-python",
   "name": "python",
   "nbconvert_exporter": "python",
   "pygments_lexer": "ipython3",
   "version": "3.9.13"
  },
  "orig_nbformat": 4,
  "vscode": {
   "interpreter": {
    "hash": "6bb877b423c92a338c6f041d539c18954d97472ff6feb7a9672c2a878db52808"
   }
  }
 },
 "nbformat": 4,
 "nbformat_minor": 2
}
