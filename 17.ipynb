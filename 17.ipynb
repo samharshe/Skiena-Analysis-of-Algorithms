{
 "cells": [
  {
   "cell_type": "markdown",
   "metadata": {},
   "source": [
    "# [Lecture 17: Backtracking and Efficiency](https://www.youtube.com/watch?v=r9AuWVpIorQ&list=PLOtl7M3yp-DX6ic0HGT0PUX_wiNmkWkXx&index=17)"
   ]
  },
  {
   "attachments": {},
   "cell_type": "markdown",
   "metadata": {},
   "source": [
    "somehow $\\frac{n!}{e}$ is the proportion of all permutations that are derangements.  \n",
    "wait actually I've seen this before as the problem of handing back hats to random people at a party.  \n",
    "why is e here though?"
   ]
  },
  {
   "cell_type": "markdown",
   "metadata": {},
   "source": [
    "to make backtracking efficient, we want to minimize the number of candidates."
   ]
  },
  {
   "cell_type": "markdown",
   "metadata": {},
   "source": [
    "*you too can fight the combinatorial explosion*"
   ]
  },
  {
   "attachments": {},
   "cell_type": "markdown",
   "metadata": {},
   "source": [
    "no proper \"notes\" section on this lecture, but I enjoyed it a lot. I was yelling answers at my computer screen the whole time. I should work through more problems on my own time; this is at least as helpful as learning the theory."
   ]
  }
 ],
 "metadata": {
  "language_info": {
   "name": "python"
  },
  "orig_nbformat": 4
 },
 "nbformat": 4,
 "nbformat_minor": 2
}
