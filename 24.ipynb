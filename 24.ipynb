{
 "cells": [
  {
   "attachments": {},
   "cell_type": "markdown",
   "metadata": {},
   "source": [
    "# [Lecture 24: Satisfiability](https://www.youtube.com/watch?v=inaFJeCzGxU)"
   ]
  },
  {
   "cell_type": "markdown",
   "metadata": {},
   "source": [
    "### notes"
   ]
  },
  {
   "attachments": {},
   "cell_type": "markdown",
   "metadata": {},
   "source": [
    "in particular, the propositions whose satisfiability is to be checked is a series of or statements anded together.  \n",
    "$\\{\\{a,b\\}, \\{c,d\\},...\\} = (a \\vee b) \\wedge (c \\vee d) \\wedge ... $"
   ]
  },
  {
   "attachments": {},
   "cell_type": "markdown",
   "metadata": {},
   "source": [
    "we can check every possible truth assignment in 2^n. can we do better?"
   ]
  },
  {
   "attachments": {},
   "cell_type": "markdown",
   "metadata": {},
   "source": [
    "we haven't proven satisfiability hard. but we can prove that if satisfiability is not hard, then all kinds of weird things are true."
   ]
  },
  {
   "attachments": {},
   "cell_type": "markdown",
   "metadata": {},
   "source": [
    "if we have a fast satisfiability algorithm, we have a fast algorithm for almost any problem. \"the world would crumble.\""
   ]
  },
  {
   "attachments": {},
   "cell_type": "markdown",
   "metadata": {},
   "source": [
    "the 3-sat problem is easier than he's making it."
   ]
  },
  {
   "attachments": {},
   "cell_type": "markdown",
   "metadata": {},
   "source": [
    "we know that 2-sat is hard by assumption. if 3-sat is easy, then 2-sat is easy, so 3-sat is hard. if vertex cover is easy, then 3-sat is easy, so vertex cover is hard.  \n",
    "in other words, we could interpret vertex cover under certain conditions as 2-sat, so if we had a fast vertex cover alg, 2-sat would be ez, so we assume no such alg exists."
   ]
  },
  {
   "cell_type": "markdown",
   "metadata": {},
   "source": [
    "cool!"
   ]
  },
  {
   "cell_type": "markdown",
   "metadata": {},
   "source": [
    "### reflections"
   ]
  },
  {
   "attachments": {},
   "cell_type": "markdown",
   "metadata": {},
   "source": [
    "we do exactly what one would predict we do: we show that an algorithm could be leveraged to solve SAT quickly, and by assuming SAT can't be solved quickly, we show that the algorithm in question could not exist."
   ]
  }
 ],
 "metadata": {
  "language_info": {
   "name": "python"
  },
  "orig_nbformat": 4
 },
 "nbformat": 4,
 "nbformat_minor": 2
}
