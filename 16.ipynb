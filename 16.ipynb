{
 "cells": [
  {
   "cell_type": "markdown",
   "metadata": {},
   "source": [
    "# [Lecture 16: Backtracking](https://www.youtube.com/watch?v=3s-beq2b0EA&list=PLOtl7M3yp-DX6ic0HGT0PUX_wiNmkWkXx&index=16)"
   ]
  },
  {
   "cell_type": "markdown",
   "metadata": {},
   "source": [
    "### notes"
   ]
  },
  {
   "attachments": {},
   "cell_type": "markdown",
   "metadata": {},
   "source": [
    "backtracking is the key to doing exhaustive search problems as efficiently as possible."
   ]
  },
  {
   "cell_type": "markdown",
   "metadata": {},
   "source": [
    "we model our solution as a vector, adding elements one at a time."
   ]
  },
  {
   "attachments": {},
   "cell_type": "markdown",
   "metadata": {},
   "source": [
    "as soon as we preclude solution, we remove elements until solution becomes possible again, and re-add different elements."
   ]
  },
  {
   "attachments": {},
   "cell_type": "markdown",
   "metadata": {},
   "source": [
    "if we have a solution, do whatever it is that we do with solutions.  \n",
    "if not, look at everything that contains our vector as a prefix.  \n",
    "if we don't find a solution, remove the last element and try again with a different final element."
   ]
  },
  {
   "attachments": {},
   "cell_type": "markdown",
   "metadata": {},
   "source": [
    "we can use backtracking to build every subset of some set by building a tree."
   ]
  },
  {
   "attachments": {},
   "cell_type": "markdown",
   "metadata": {},
   "source": [
    "backtracking does this efficiently."
   ]
  },
  {
   "attachments": {},
   "cell_type": "markdown",
   "metadata": {},
   "source": [
    "bandwidth problem is np-complete, so there is no polynomial-time worst-case solution."
   ]
  },
  {
   "cell_type": "markdown",
   "metadata": {},
   "source": [
    "(bandwidth problem: find the permutation that minimizes the length of the longest edge.)"
   ]
  },
  {
   "cell_type": "markdown",
   "metadata": {},
   "source": [
    "### reflections"
   ]
  },
  {
   "attachments": {},
   "cell_type": "markdown",
   "metadata": {},
   "source": [
    "backtracking is a pretty straightfoward idea:  \n",
    "we keep track of a vector that might contain a solution.  \n",
    "if we realize that we don't have a solution, we undo the end and try all possibilities with [0:n-1] as a prefix."
   ]
  },
  {
   "cell_type": "markdown",
   "metadata": {},
   "source": [
    "this is very expensive but sometimes we need to search the entire possibility space."
   ]
  }
 ],
 "metadata": {
  "language_info": {
   "name": "python"
  },
  "orig_nbformat": 4
 },
 "nbformat": 4,
 "nbformat_minor": 2
}
