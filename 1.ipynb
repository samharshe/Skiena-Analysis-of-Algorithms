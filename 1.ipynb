{
 "cells": [
  {
   "attachments": {},
   "cell_type": "markdown",
   "metadata": {},
   "source": [
    "# Lecture 1: The ideas behind the computer program.\n",
    "### https://youtube.com/watch?v=A2bFN3MyNDA&list=PLOtl7M3yp-DX32N0fVIyvn7ipWKNGmwpp\n"
   ]
  },
  {
   "attachments": {},
   "cell_type": "markdown",
   "metadata": {},
   "source": [
    "### notes"
   ]
  },
  {
   "cell_type": "markdown",
   "metadata": {},
   "source": [
    "the procedures or ideas or method that underlies the program.  \n",
    "algorithms solve well-defined problems.  \n",
    "therefore the study of algorithms is formal and rigorous and lends itself to proof-writing."
   ]
  },
  {
   "attachments": {},
   "cell_type": "markdown",
   "metadata": {},
   "source": [
    "efficiency defined normally in this course by big-O worst-case analysis.\n",
    "we want algorithms that perform well on large data sets, not on."
   ]
  },
  {
   "attachments": {},
   "cell_type": "markdown",
   "metadata": {},
   "source": [
    "algorithm design independent of language."
   ]
  },
  {
   "attachments": {},
   "cell_type": "markdown",
   "metadata": {},
   "source": [
    "we need correctness!  \n",
    "(not always, but usually—sometimes we just want heuristics. in this course, we always want correctness.)  \n",
    "guaranteed to be right for all legal instances of the problem."
   ]
  },
  {
   "attachments": {},
   "cell_type": "markdown",
   "metadata": {},
   "source": [
    "problems must be well-defined so we can prove that the alg is correct in all cases."
   ]
  },
  {
   "attachments": {},
   "cell_type": "markdown",
   "metadata": {},
   "source": [
    "no efficient, correct solution exists to the TSP.  \n",
    "I remember this from QCVC.  \n",
    "is is that no solution exists, though, or just that no solution is known?"
   ]
  },
  {
   "attachments": {},
   "cell_type": "markdown",
   "metadata": {},
   "source": [
    "a: problem is np-complete: no fast algorithm!  \n",
    "(I need to know more about np-completeness.)"
   ]
  },
  {
   "attachments": {},
   "cell_type": "markdown",
   "metadata": {},
   "source": [
    "without a proof of correctness, any algorithm is probably wrong."
   ]
  },
  {
   "attachments": {},
   "cell_type": "markdown",
   "metadata": {},
   "source": [
    "algorithms are ideas, and are therefore best written in English (pseudocode) or with pictures."
   ]
  },
  {
   "attachments": {},
   "cell_type": "markdown",
   "metadata": {},
   "source": [
    "computer scientists only know proof by induction and proof by contradiction.  \n",
    "MATH 244 really only used these two methods, so this seems right to me."
   ]
  },
  {
   "attachments": {},
   "cell_type": "markdown",
   "metadata": {},
   "source": [
    "### reflections"
   ]
  },
  {
   "attachments": {},
   "cell_type": "markdown",
   "metadata": {},
   "source": [
    "algorithms are the building blocks of computer programs. if you can't prove it's right, assume it's wrong. (this is general advice.) induction, contradiction, counter-example. work for the idea of the algorithm; algorithms are substrate-independent.  \n",
    "\n",
    "I am curious about whether there is some intuitive test to determine whether a problem is NP-complete or not, which, I think, means whether there is some correct, efficient algorithm to solve it or not. it wasn't immediately obvious to me that the TSP has no solution but that the interval problem does.\n",
    "\n",
    "lots of fun problems so far. excited for the next lecture."
   ]
  }
 ],
 "metadata": {
  "kernelspec": {
   "display_name": "base",
   "language": "python",
   "name": "python3"
  },
  "language_info": {
   "name": "python",
   "version": "3.9.13"
  },
  "orig_nbformat": 4,
  "vscode": {
   "interpreter": {
    "hash": "6bb877b423c92a338c6f041d539c18954d97472ff6feb7a9672c2a878db52808"
   }
  }
 },
 "nbformat": 4,
 "nbformat_minor": 2
}
