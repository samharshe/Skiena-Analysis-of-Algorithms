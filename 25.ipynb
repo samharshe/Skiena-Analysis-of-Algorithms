{
 "cells": [
  {
   "cell_type": "markdown",
   "metadata": {},
   "source": [
    "# [Lecture 25: More NP-Completeness](https://www.youtube.com/watch?v=B-bhKxjZLlc)"
   ]
  },
  {
   "cell_type": "markdown",
   "metadata": {},
   "source": [
    "### notes"
   ]
  },
  {
   "cell_type": "markdown",
   "metadata": {},
   "source": [
    "to prove that a problem is hard, we just have to start from the right place, connecting it to the right hard problem. "
   ]
  },
  {
   "cell_type": "markdown",
   "metadata": {},
   "source": [
    "it is easier to do the translation from a more restricted problem, so we tend to prefer simpler problems as out bandersnatches."
   ]
  },
  {
   "attachments": {},
   "cell_type": "markdown",
   "metadata": {},
   "source": [
    "the proof is straightforward when bandersnatch is just a special case of bo-billy."
   ]
  },
  {
   "attachments": {},
   "cell_type": "markdown",
   "metadata": {},
   "source": [
    "incidence matrix: vertices take a row; edges take a column. 0s everywhere but 1s where an edge is incident upon that vertex. thus there are 2 1's in each column. the number of 1s in a row is the degree of the corresponding vertex."
   ]
  },
  {
   "cell_type": "markdown",
   "metadata": {},
   "source": [
    "### reflections"
   ]
  },
  {
   "attachments": {},
   "cell_type": "markdown",
   "metadata": {},
   "source": [
    "more examples of translating to show that our new quick algorithm could solve some NP-complete problem quickly, which means that our new quick algorithm can't exist."
   ]
  },
  {
   "attachments": {},
   "cell_type": "markdown",
   "metadata": {},
   "source": [
    "this is fun and I think I get it."
   ]
  }
 ],
 "metadata": {
  "language_info": {
   "name": "python"
  },
  "orig_nbformat": 4
 },
 "nbformat": 4,
 "nbformat_minor": 2
}
