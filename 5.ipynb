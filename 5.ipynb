{
 "cells": [
  {
   "attachments": {},
   "cell_type": "markdown",
   "metadata": {},
   "source": [
    "# [Lecture 5: Dictionaries and Trees](https://www.youtube.com/watch?v=27jDhSEJ1ag&list=PLOtl7M3yp-DX6ic0HGT0PUX_wiNmkWkXx)"
   ]
  },
  {
   "attachments": {},
   "cell_type": "markdown",
   "metadata": {},
   "source": [
    "### notes"
   ]
  },
  {
   "attachments": {},
   "cell_type": "markdown",
   "metadata": {},
   "source": [
    "dictionaries: the mother of all data structures."
   ]
  },
  {
   "attachments": {},
   "cell_type": "markdown",
   "metadata": {},
   "source": [
    "supports the following operations:  \n",
    "1. Search(S,k) returns a pointer to an element x in S whose key is k if such an element exists, and a null pointer otherwise.  \n",
    "2. Insert(S,x) adds x to S.  \n",
    "3. Delete(S,x) given a pointer to an element x in S, removes x. note that it takes a pointer to the element, not the key. if we are given the key, we have to do a search operation.  \n",
    "4. Min(S), Max(S) given a totally ordered S, return the element of S with the smallest or largest key.  \n",
    "5. Predecessor(S,x), Successor(S,x) given a totally ordered S, return the element with the key logically before or after that of the given element.   "
   ]
  },
  {
   "attachments": {},
   "cell_type": "markdown",
   "metadata": {},
   "source": [
    "problem of the day!    \n",
    "a fun one.      \n",
    "\n",
    "                | singly unsorted  | singly sorted | doubly unsorted | doubly sorted  \n",
    "    search      |     O(n)         |      O(n)     |      O(n)       |     O(n) \n",
    "    insert      |     O(1)         |      O(n)     |      O(1)       |     O(n)  \n",
    "    delete      |     O(n)**       |      O(n)     |      O(1)       |     O(1)  \n",
    "    min         |     O(n)         |      O(1)     |      O(n)***    |     O(1)  \n",
    "    max         |     O(n)         |      O(n)     |      O(n)***    |     O(1)  \n",
    "    successor   |     O(1)*        |      O(1)*    |      O(n)       |     O(1)  \n",
    "    predecessor |     O(1)*        |      O(1)*    |      O(n)       |     O(1)  \n",
    "\n",
    "*by adding pointers to the min and max elements and updating the insert and delete functions to keep the min and max updates. note that the modifications to the insert and delete functions does not change their time complexities.  \n",
    "you can't analyze operations independently! sometimes you make one operation more complicated to save time on another operation.  \n",
    "**O(1): copy contents of object to be deleted's pointer to the position of the object to be deleted, and delete the successor.  \n",
    "***you can have these in O(1) but you'd need to modify insert and delete so they'd be in O(n).  \n",
    "adding a constant amount of memory to your structure to do these queries faster is ok. "
   ]
  },
  {
   "attachments": {},
   "cell_type": "markdown",
   "metadata": {},
   "source": [
    "formatting that table was a fucking nightmare. I need to learn to do that properly."
   ]
  },
  {
   "attachments": {},
   "cell_type": "markdown",
   "metadata": {},
   "source": [
    "binary search trees support efficient algorithms on all the above operations."
   ]
  },
  {
   "attachments": {},
   "cell_type": "markdown",
   "metadata": {},
   "source": [
    "each node contains at most two children.  \n",
    "each child knows whether it's a left child or right child.  "
   ]
  },
  {
   "attachments": {},
   "cell_type": "markdown",
   "metadata": {},
   "source": [
    "binary search tree: all the left descendents are less than it, all the right descendents are more than it.  \n",
    "there is only one way for a labeling to have this property."
   ]
  },
  {
   "attachments": {},
   "cell_type": "markdown",
   "metadata": {},
   "source": [
    "time complexity for search on a binary search tree can be said to be O(h), where h is the height of the tree."
   ]
  },
  {
   "attachments": {},
   "cell_type": "markdown",
   "metadata": {},
   "source": [
    "\"recursive structure\" the right and left subtrees are binary trees themselves."
   ]
  },
  {
   "attachments": {},
   "cell_type": "markdown",
   "metadata": {},
   "source": [
    "instead of searching for a  particular key, to find min and max, we keep taking the left and right child, so we stay in O(h)."
   ]
  },
  {
   "attachments": {},
   "cell_type": "markdown",
   "metadata": {},
   "source": [
    "the successor of x is the min of the tree headed by the right child of x.  \n",
    "the predecessor of x is the max of the tree headed by the left child of x.  \n",
    "both done in O(h)."
   ]
  },
  {
   "attachments": {},
   "cell_type": "markdown",
   "metadata": {},
   "source": [
    "if no left child, the node's precessor is its first left ancestor.  \n",
    "if no right child, the node's successor is its first right ancestor."
   ]
  },
  {
   "attachments": {},
   "cell_type": "markdown",
   "metadata": {},
   "source": [
    "in-order traversal is a recursive search procedure.\n",
    "(1) traverse the left subtree  \n",
    "(2) then visit the root  \n",
    "(3) traverse the right subtree.  \n",
    "if no left subtree, or if left subtree already visited, add to a list.  \n",
    "this ordered list is an ordered list of the entire tree.  \n",
    "COOL!  \n",
    "this is in O(n): it reaches every node and does constant work at each node. "
   ]
  },
  {
   "attachments": {},
   "cell_type": "markdown",
   "metadata": {},
   "source": [
    "add to trees by traversing them as if you're searching for the pointer you're adding, then change the null-pointer you inevitably encounter to the pointer you're adding.  \n",
    "(this means that trees aren't always even, which is apparently OK because it is the only way for us to achieve all the properties we need to.)"
   ]
  },
  {
   "attachments": {},
   "cell_type": "markdown",
   "metadata": {},
   "source": [
    "delete:  \n",
    "3 cases:  \n",
    "1. leaf node. you're good. no cover-up to do.  \n",
    "2. node with only one child. replace the node to be deleted with its child.  \n",
    "3. node with two children. find your successor in O(h). replace yourself with your successor. (this also works with predecessor, no? yes.)"
   ]
  },
  {
   "attachments": {},
   "cell_type": "markdown",
   "metadata": {},
   "source": [
    "all dictionary operations can be done in O(h)."
   ]
  },
  {
   "attachments": {},
   "cell_type": "markdown",
   "metadata": {},
   "source": [
    "if the tree is perfectly balanced, this is O(lg(n)), but if it is perfectly imbalanced, this is O(n)."
   ]
  },
  {
   "attachments": {},
   "cell_type": "markdown",
   "metadata": {},
   "source": [
    "with random insertion, though, we have on average $\\Theta(lg(n))$ height."
   ]
  },
  {
   "attachments": {},
   "cell_type": "markdown",
   "metadata": {},
   "source": [
    "you can balance the tree after every insertion or deletion, but it is not optimal to keep it exactly lg(n) height. (consider adding a minimal element. you don't want to have to redo the whole tree.)"
   ]
  },
  {
   "attachments": {},
   "cell_type": "markdown",
   "metadata": {},
   "source": [
    "the worst case for all these operations is lg(n), and no data structure exists that does better."
   ]
  },
  {
   "attachments": {},
   "cell_type": "markdown",
   "metadata": {},
   "source": [
    "logs often arise when we are implicitly using something tree-like."
   ]
  },
  {
   "attachments": {},
   "cell_type": "markdown",
   "metadata": {},
   "source": [
    "### reflections"
   ]
  },
  {
   "attachments": {},
   "cell_type": "markdown",
   "metadata": {},
   "source": [
    "binary trees are cool.  \n",
    "if you think there's an asymmetry, think harder.  \n",
    "you can do everything in log(n)ish if you're careful.  \n",
    "I will build some trees in Python tomorrow."
   ]
  }
 ],
 "metadata": {
  "language_info": {
   "name": "python"
  },
  "orig_nbformat": 4
 },
 "nbformat": 4,
 "nbformat_minor": 2
}
