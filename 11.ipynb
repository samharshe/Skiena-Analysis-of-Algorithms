{
 "cells": [
  {
   "attachments": {},
   "cell_type": "markdown",
   "metadata": {},
   "source": [
    "# [Lecture 11: Graph Traversal](https://www.youtube.com/watch?v=ZTwjXj81NVY&list=PLOtl7M3yp-DX6ic0HGT0PUX_wiNmkWkXx&index=11)"
   ]
  },
  {
   "attachments": {},
   "cell_type": "markdown",
   "metadata": {},
   "source": [
    "the total work to loop through an adjacency list is n + 2m, so n + m.  \n",
    "for an adjacency matrix, we have n^2."
   ]
  },
  {
   "attachments": {},
   "cell_type": "markdown",
   "metadata": {},
   "source": [
    "### notes"
   ]
  },
  {
   "attachments": {},
   "cell_type": "markdown",
   "metadata": {},
   "source": [
    "traversing a graph:  \n",
    "for efficiency, we want to traverse each edge at most twice.  \n",
    "for correctness, we want to traverse each edge at least once.  "
   ]
  },
  {
   "attachments": {},
   "cell_type": "markdown",
   "metadata": {},
   "source": [
    "vertices are always in one of three states:  \n",
    "undiscovered.  \n",
    "discovered: we know it's there, but we haven't checked out all its incident edges.  \n",
    "processed: we have checked out all its incident edges."
   ]
  },
  {
   "cell_type": "markdown",
   "metadata": {},
   "source": [
    "keep track of the state of each vertex as we do our exploration."
   ]
  },
  {
   "attachments": {},
   "cell_type": "markdown",
   "metadata": {},
   "source": [
    "start with a vertex. add it to our to-do list. check out all its neighbors. add them to our to-do list. recur."
   ]
  },
  {
   "attachments": {},
   "cell_type": "markdown",
   "metadata": {},
   "source": [
    "breadth-first search:  \n",
    "visit all the vertices in a well-defined order."
   ]
  },
  {
   "attachments": {},
   "cell_type": "markdown",
   "metadata": {},
   "source": [
    "each vertex has two bits associated with it, both set to false to begin with: discovered and processed.  \n",
    "also keep track of who the parent vertex is."
   ]
  },
  {
   "attachments": {},
   "cell_type": "markdown",
   "metadata": {},
   "source": [
    "running time of BFS is n + 2m = n + m."
   ]
  },
  {
   "attachments": {},
   "cell_type": "markdown",
   "metadata": {},
   "source": [
    "breadth-first search:\n",
    "add a vertex to the queue.  \n",
    "dequeue it.  \n",
    "look at all its neighbors. if any is not yet discovered, add it to the queue.  \n",
    "once we've done this for any vertex, we call it processed and don't need to deal with it any more.  \n",
    "dequeue a new vertex. add all its undiscovered neighbors to the queue. repeat until the queue is empty. "
   ]
  },
  {
   "attachments": {},
   "cell_type": "markdown",
   "metadata": {},
   "source": [
    "I notice that this will not work if the graph is not connected."
   ]
  },
  {
   "attachments": {},
   "cell_type": "markdown",
   "metadata": {},
   "source": [
    "if the neighbor is undiscovered, then that vertex and the edge are both new.  \n",
    "if the neighbor is discovered but not processed, then the vertex is not new, but the edge is.  \n",
    "if the neighbor is processed, then the vertex and the edge are not new.  \n",
    "BFS allows us to create procedures every time we find a new vertex or edge."
   ]
  },
  {
   "attachments": {},
   "cell_type": "markdown",
   "metadata": {},
   "source": [
    "we discover new vertices in order of their proximity to the original vertex.  \n",
    "finding the shortest path from any vertex to the original vertex is therefore easy as long as we keep track of parent vertices.  \n",
    "the discovery relation is guaranteed to give a shortest path from any vertex to the root! we don't have to worry about pointless wandering because we proceed in order of distance to the root because we use a queue."
   ]
  },
  {
   "cell_type": "markdown",
   "metadata": {},
   "source": [
    "for each vertex, see whether it's discovered. if it's not, do a BFS beginning with that vertex. that will discover all vertices connected to that vertex. then iterate through the rest of the vertices to guarantee you look at all chunks of a graph if they're not connected."
   ]
  },
  {
   "attachments": {},
   "cell_type": "markdown",
   "metadata": {},
   "source": [
    "^^ we stay in n + m."
   ]
  },
  {
   "attachments": {},
   "cell_type": "markdown",
   "metadata": {},
   "source": [
    "### reflections"
   ]
  },
  {
   "attachments": {},
   "cell_type": "markdown",
   "metadata": {},
   "source": [
    "graph traversals are important. we want to make sure we visit each vertex at least once and at most twice."
   ]
  },
  {
   "attachments": {},
   "cell_type": "markdown",
   "metadata": {},
   "source": [
    "we covered BFS today. mark all vertices as undiscovered. add a vertex to the queue and mark it as discovered. add its neighbors to the queue and mark them as discoverd. mark the vertex as processed. dequeue a neighbor and add all its neighbors to the queue. and so on.  "
   ]
  },
  {
   "attachments": {},
   "cell_type": "markdown",
   "metadata": {},
   "source": [
    "iterate through the list of vertices. if a vertex is undiscovered after our first BFS, it is on a different component of the graph, so initiate a new BFS with that undiscovered vertex as the new root."
   ]
  },
  {
   "attachments": {},
   "cell_type": "markdown",
   "metadata": {},
   "source": [
    "this lets us run processes whenever we see a new vertex or a new edge or when we have totally processed a vertex. "
   ]
  },
  {
   "attachments": {},
   "cell_type": "markdown",
   "metadata": {},
   "source": [
    "the running time is n + m, no matter how many components we have."
   ]
  }
 ],
 "metadata": {
  "language_info": {
   "name": "python"
  },
  "orig_nbformat": 4
 },
 "nbformat": 4,
 "nbformat_minor": 2
}
